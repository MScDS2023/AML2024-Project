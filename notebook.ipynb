{
 "cells": [
  {
   "cell_type": "code",
   "execution_count": null,
   "metadata": {},
   "outputs": [],
   "source": [
    "from nltk import ne_chunk, pos_tag, word_tokenize\n",
    "import nltk\n",
    "nltk.download('maxent_ne_chunker')\n",
    "nltk.download('words')\n",
    "from datasets import load_dataset\n",
    "from collections import Counter, defaultdict"
   ]
  },
  {
   "cell_type": "code",
   "execution_count": null,
   "metadata": {},
   "outputs": [],
   "source": [
    "data = load_dataset('GonzaloA/fake_news')"
   ]
  },
  {
   "cell_type": "code",
   "execution_count": null,
   "metadata": {},
   "outputs": [],
   "source": [
    "# ------- splits up data by label and stores index --------\n",
    "fake = []\n",
    "true = []\n",
    "\n",
    "for i, article in enumerate(data['train']):\n",
    "    \n",
    "    # saving index for further analysis\n",
    "    info = {'text': article['text'], 'index': i}\n",
    "\n",
    "    if article['label'] == 0: # label == fake\n",
    "        fake.append(info)\n",
    "\n",
    "    else: # label == true\n",
    "        true.append(info)\n",
    "\n",
    "\n",
    "# --------- tokenizes the text of the fake news and counts occurrences ----------- \n",
    "fake_counts = defaultdict(lambda: {'count': 0, 'articles': []})\n",
    "\n",
    "for info in fake:\n",
    "    text = info['text']\n",
    "    index = info['index'] # stores document index for future analysis\n",
    "    tokens = word_tokenize(text)\n",
    "\n",
    "    for token in tokens:\n",
    "        fake_counts[token]['count'] += 1\n",
    "        fake_counts[token]['articles'].append(index)\n",
    "\n",
    "\n",
    "# -------- tokenizes the text of non-fake news and counts occurrences -----------\n",
    "true_combined = ' '.join([article['text'] for article in true])\n",
    "true_tokens = word_tokenize(true_combined)\n",
    "true_amounts = Counter(true_tokens)\n",
    "\n",
    "\n",
    "# --------- computes token frequency in fake news / frequency in non-fake news --------\n",
    "fake_tf = {}\n",
    "\n",
    "for token in fake_counts:\n",
    "    count = fake_counts[token]['count']\n",
    "    articles = fake_counts[token]['articles']\n",
    "    if token in true_amounts:\n",
    "        fake_tf[token] = {'freq': count / true_amounts[token], \n",
    "                          'articles': articles}\n",
    "    else:\n",
    "        # pretends tokens not appearing in true appear once (to avoid dividing by zero)\n",
    "        fake_tf[token] = {'freq': count, \n",
    "                          'articles': articles}\n",
    "\n",
    "\n",
    "# -------- sorts and prints tokens with highest value = most particular to fake news --------\n",
    "sorted_ = sorted(list(fake_tf.items()), key=lambda x: x[1]['freq'], reverse=True)\n",
    "for token, info in sorted_:\n",
    "    print(token, info['freq'], info['articles'][:10])"
   ]
  },
  {
   "cell_type": "code",
   "execution_count": null,
   "metadata": {},
   "outputs": [],
   "source": [
    "#with open('fake_tokens.txt', 'a') as f:\n",
    "#    for token in sorted_:\n",
    "#        f.write(f'{token[0]}, {token[1][0]}, {token[1][1][:10]}\\n')"
   ]
  }
 ],
 "metadata": {
  "kernelspec": {
   "display_name": "aml",
   "language": "python",
   "name": "python3"
  },
  "language_info": {
   "codemirror_mode": {
    "name": "ipython",
    "version": 3
   },
   "file_extension": ".py",
   "mimetype": "text/x-python",
   "name": "python",
   "nbconvert_exporter": "python",
   "pygments_lexer": "ipython3",
   "version": "3.10.11"
  }
 },
 "nbformat": 4,
 "nbformat_minor": 2
}
